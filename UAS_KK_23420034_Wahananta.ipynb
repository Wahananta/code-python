{
  "nbformat": 4,
  "nbformat_minor": 0,
  "metadata": {
    "colab": {
      "provenance": [],
      "authorship_tag": "ABX9TyMXE0Xv5njNPymaUODJ/uoD",
      "include_colab_link": true
    },
    "kernelspec": {
      "name": "python3",
      "display_name": "Python 3"
    },
    "language_info": {
      "name": "python"
    }
  },
  "cells": [
    {
      "cell_type": "markdown",
      "metadata": {
        "id": "view-in-github",
        "colab_type": "text"
      },
      "source": [
        "<a href=\"https://colab.research.google.com/github/Wahananta/code-python/blob/main/UAS_KK_23420034_Wahananta.ipynb\" target=\"_parent\"><img src=\"https://colab.research.google.com/assets/colab-badge.svg\" alt=\"Open In Colab\"/></a>"
      ]
    },
    {
      "cell_type": "code",
      "execution_count": 1,
      "metadata": {
        "id": "JqSKCRdPulIv"
      },
      "outputs": [],
      "source": [
        "import pandas as pd\n",
        "import numpy as np"
      ]
    },
    {
      "cell_type": "markdown",
      "source": [
        "Membuka data file excel"
      ],
      "metadata": {
        "id": "FDG5uw_DVDCP"
      }
    },
    {
      "cell_type": "code",
      "source": [
        "from google.colab import files\n",
        "uploaded = files.upload()"
      ],
      "metadata": {
        "colab": {
          "base_uri": "https://localhost:8080/",
          "height": 73
        },
        "id": "ihMDLesSGZA6",
        "outputId": "7712df52-6cb3-4e14-8a9b-9041ec2dd103"
      },
      "execution_count": 2,
      "outputs": [
        {
          "output_type": "display_data",
          "data": {
            "text/plain": [
              "<IPython.core.display.HTML object>"
            ],
            "text/html": [
              "\n",
              "     <input type=\"file\" id=\"files-cc5a2eec-3bbc-42a2-8d18-83a56cb269cc\" name=\"files[]\" multiple disabled\n",
              "        style=\"border:none\" />\n",
              "     <output id=\"result-cc5a2eec-3bbc-42a2-8d18-83a56cb269cc\">\n",
              "      Upload widget is only available when the cell has been executed in the\n",
              "      current browser session. Please rerun this cell to enable.\n",
              "      </output>\n",
              "      <script>// Copyright 2017 Google LLC\n",
              "//\n",
              "// Licensed under the Apache License, Version 2.0 (the \"License\");\n",
              "// you may not use this file except in compliance with the License.\n",
              "// You may obtain a copy of the License at\n",
              "//\n",
              "//      http://www.apache.org/licenses/LICENSE-2.0\n",
              "//\n",
              "// Unless required by applicable law or agreed to in writing, software\n",
              "// distributed under the License is distributed on an \"AS IS\" BASIS,\n",
              "// WITHOUT WARRANTIES OR CONDITIONS OF ANY KIND, either express or implied.\n",
              "// See the License for the specific language governing permissions and\n",
              "// limitations under the License.\n",
              "\n",
              "/**\n",
              " * @fileoverview Helpers for google.colab Python module.\n",
              " */\n",
              "(function(scope) {\n",
              "function span(text, styleAttributes = {}) {\n",
              "  const element = document.createElement('span');\n",
              "  element.textContent = text;\n",
              "  for (const key of Object.keys(styleAttributes)) {\n",
              "    element.style[key] = styleAttributes[key];\n",
              "  }\n",
              "  return element;\n",
              "}\n",
              "\n",
              "// Max number of bytes which will be uploaded at a time.\n",
              "const MAX_PAYLOAD_SIZE = 100 * 1024;\n",
              "\n",
              "function _uploadFiles(inputId, outputId) {\n",
              "  const steps = uploadFilesStep(inputId, outputId);\n",
              "  const outputElement = document.getElementById(outputId);\n",
              "  // Cache steps on the outputElement to make it available for the next call\n",
              "  // to uploadFilesContinue from Python.\n",
              "  outputElement.steps = steps;\n",
              "\n",
              "  return _uploadFilesContinue(outputId);\n",
              "}\n",
              "\n",
              "// This is roughly an async generator (not supported in the browser yet),\n",
              "// where there are multiple asynchronous steps and the Python side is going\n",
              "// to poll for completion of each step.\n",
              "// This uses a Promise to block the python side on completion of each step,\n",
              "// then passes the result of the previous step as the input to the next step.\n",
              "function _uploadFilesContinue(outputId) {\n",
              "  const outputElement = document.getElementById(outputId);\n",
              "  const steps = outputElement.steps;\n",
              "\n",
              "  const next = steps.next(outputElement.lastPromiseValue);\n",
              "  return Promise.resolve(next.value.promise).then((value) => {\n",
              "    // Cache the last promise value to make it available to the next\n",
              "    // step of the generator.\n",
              "    outputElement.lastPromiseValue = value;\n",
              "    return next.value.response;\n",
              "  });\n",
              "}\n",
              "\n",
              "/**\n",
              " * Generator function which is called between each async step of the upload\n",
              " * process.\n",
              " * @param {string} inputId Element ID of the input file picker element.\n",
              " * @param {string} outputId Element ID of the output display.\n",
              " * @return {!Iterable<!Object>} Iterable of next steps.\n",
              " */\n",
              "function* uploadFilesStep(inputId, outputId) {\n",
              "  const inputElement = document.getElementById(inputId);\n",
              "  inputElement.disabled = false;\n",
              "\n",
              "  const outputElement = document.getElementById(outputId);\n",
              "  outputElement.innerHTML = '';\n",
              "\n",
              "  const pickedPromise = new Promise((resolve) => {\n",
              "    inputElement.addEventListener('change', (e) => {\n",
              "      resolve(e.target.files);\n",
              "    });\n",
              "  });\n",
              "\n",
              "  const cancel = document.createElement('button');\n",
              "  inputElement.parentElement.appendChild(cancel);\n",
              "  cancel.textContent = 'Cancel upload';\n",
              "  const cancelPromise = new Promise((resolve) => {\n",
              "    cancel.onclick = () => {\n",
              "      resolve(null);\n",
              "    };\n",
              "  });\n",
              "\n",
              "  // Wait for the user to pick the files.\n",
              "  const files = yield {\n",
              "    promise: Promise.race([pickedPromise, cancelPromise]),\n",
              "    response: {\n",
              "      action: 'starting',\n",
              "    }\n",
              "  };\n",
              "\n",
              "  cancel.remove();\n",
              "\n",
              "  // Disable the input element since further picks are not allowed.\n",
              "  inputElement.disabled = true;\n",
              "\n",
              "  if (!files) {\n",
              "    return {\n",
              "      response: {\n",
              "        action: 'complete',\n",
              "      }\n",
              "    };\n",
              "  }\n",
              "\n",
              "  for (const file of files) {\n",
              "    const li = document.createElement('li');\n",
              "    li.append(span(file.name, {fontWeight: 'bold'}));\n",
              "    li.append(span(\n",
              "        `(${file.type || 'n/a'}) - ${file.size} bytes, ` +\n",
              "        `last modified: ${\n",
              "            file.lastModifiedDate ? file.lastModifiedDate.toLocaleDateString() :\n",
              "                                    'n/a'} - `));\n",
              "    const percent = span('0% done');\n",
              "    li.appendChild(percent);\n",
              "\n",
              "    outputElement.appendChild(li);\n",
              "\n",
              "    const fileDataPromise = new Promise((resolve) => {\n",
              "      const reader = new FileReader();\n",
              "      reader.onload = (e) => {\n",
              "        resolve(e.target.result);\n",
              "      };\n",
              "      reader.readAsArrayBuffer(file);\n",
              "    });\n",
              "    // Wait for the data to be ready.\n",
              "    let fileData = yield {\n",
              "      promise: fileDataPromise,\n",
              "      response: {\n",
              "        action: 'continue',\n",
              "      }\n",
              "    };\n",
              "\n",
              "    // Use a chunked sending to avoid message size limits. See b/62115660.\n",
              "    let position = 0;\n",
              "    do {\n",
              "      const length = Math.min(fileData.byteLength - position, MAX_PAYLOAD_SIZE);\n",
              "      const chunk = new Uint8Array(fileData, position, length);\n",
              "      position += length;\n",
              "\n",
              "      const base64 = btoa(String.fromCharCode.apply(null, chunk));\n",
              "      yield {\n",
              "        response: {\n",
              "          action: 'append',\n",
              "          file: file.name,\n",
              "          data: base64,\n",
              "        },\n",
              "      };\n",
              "\n",
              "      let percentDone = fileData.byteLength === 0 ?\n",
              "          100 :\n",
              "          Math.round((position / fileData.byteLength) * 100);\n",
              "      percent.textContent = `${percentDone}% done`;\n",
              "\n",
              "    } while (position < fileData.byteLength);\n",
              "  }\n",
              "\n",
              "  // All done.\n",
              "  yield {\n",
              "    response: {\n",
              "      action: 'complete',\n",
              "    }\n",
              "  };\n",
              "}\n",
              "\n",
              "scope.google = scope.google || {};\n",
              "scope.google.colab = scope.google.colab || {};\n",
              "scope.google.colab._files = {\n",
              "  _uploadFiles,\n",
              "  _uploadFilesContinue,\n",
              "};\n",
              "})(self);\n",
              "</script> "
            ]
          },
          "metadata": {}
        },
        {
          "output_type": "stream",
          "name": "stdout",
          "text": [
            "Saving News.xlsx to News.xlsx\n"
          ]
        }
      ]
    },
    {
      "cell_type": "markdown",
      "source": [
        "Membaca file data excel"
      ],
      "metadata": {
        "id": "tEluCd26VM3f"
      }
    },
    {
      "cell_type": "code",
      "source": [
        "import io\n",
        "df = pd.read_excel(io.BytesIO(uploaded['News.xlsx']))\n",
        "\n",
        "print(df)"
      ],
      "metadata": {
        "colab": {
          "base_uri": "https://localhost:8080/"
        },
        "id": "id8GGY3iQqNR",
        "outputId": "778cda0f-d0a7-4655-8562-434e1f3d29a3"
      },
      "execution_count": 10,
      "outputs": [
        {
          "output_type": "stream",
          "name": "stdout",
          "text": [
            "   Berita  Emosi  Provokasi  Hoaks\n",
            "0     B01     97         74     Ya\n",
            "1     B02     57         85     Ya\n",
            "2     B03     78         43  Tidak\n",
            "3     B04     55         90     Ya\n",
            "4     B05     71         25  Tidak\n",
            "5     B06     45         81     Ya\n",
            "6     B07     55         62  Tidak\n",
            "7     B08     57         45  Tidak\n",
            "8     B09     40         65  Tidak\n",
            "9     B10     57         45  Tidak\n",
            "10    B11     77         70     Ya\n",
            "11    B12     68         75     Ya\n",
            "12    B13     60         70  Tidak\n",
            "13    B14     82         90     Ya\n",
            "14    B15     40         85  Tidak\n",
            "15    B16     80         68     Ya\n",
            "16    B17     60         72  Tidak\n",
            "17    B18     50         95     Ya\n",
            "18    B19    100         18  Tidak\n",
            "19    B20     11         99     Ya\n",
            "20    B21     58         63      ?\n",
            "21    B22     68         70      ?\n",
            "22    B23     64         66      ?\n",
            "23    B24     57         77      ?\n",
            "24    B25     77         55      ?\n",
            "25    B26     98         64      ?\n",
            "26    B27     91         59      ?\n",
            "27    B28     50         95      ?\n",
            "28    B29     95         55      ?\n",
            "29    B30     27         79      ?\n"
          ]
        }
      ]
    },
    {
      "cell_type": "markdown",
      "source": [
        "Mengambil data dari excel untuk dikelola"
      ],
      "metadata": {
        "id": "66OLUfPbVS_o"
      }
    },
    {
      "cell_type": "code",
      "source": [
        "berita = df['Berita'].tolist()\n",
        "emosi = df['Emosi'].tolist()\n",
        "provokasi = df['Provokasi'].tolist()\n",
        "hoaks = df['Hoaks'].tolist();"
      ],
      "metadata": {
        "id": "NXCBzXFERBbq"
      },
      "execution_count": 4,
      "outputs": []
    },
    {
      "cell_type": "code",
      "source": [
        "def checkEmosi(x):\n",
        "    print (\"input : \",x)\n",
        "\n",
        "    eLow, eMedium, eHigh = 0,0,0\n",
        "\n",
        "    if x >= 0 and x <= 35:\n",
        "        eLow    = 1\n",
        "\n",
        "    elif x > 35 and x < 39:\n",
        "        eLow    = (-1*((x-39)/(39-35)))\n",
        "        eMedium = ((x-35)/(39-35))\n",
        "\n",
        "    elif x >= 39 and x <= 61:\n",
        "        eMedium = 1\n",
        "\n",
        "    elif x > 61 and x <65:\n",
        "        eMedium = (-1*((x-65)/(65-61)))\n",
        "        eHigh   = ((x-61)/(65-1))\n",
        "\n",
        "    elif x >= 65:\n",
        "        eHigh   = 1\n",
        "\n",
        "    print(\"eLow : \",eLow, \"eMedium : \",eMedium, \"eHigh : \",eHigh)\n",
        "\n",
        "    return eLow, eMedium, eHigh"
      ],
      "metadata": {
        "id": "L6uap3WTumYD"
      },
      "execution_count": 5,
      "outputs": []
    },
    {
      "cell_type": "code",
      "source": [
        "def checkProvokasi(x):\n",
        "    pLow, pMedium, pHigh = 0,0,0\n",
        "\n",
        "    if x >= 0 and x <= 55:\n",
        "        pLow    = 1\n",
        "\n",
        "    elif x > 55 and x < 60:\n",
        "        pLow    = (-1*(x-60)/(60-55))\n",
        "        pMedium = ((x-55)/(60-55))\n",
        "\n",
        "    elif x >= 60 and x <= 85:\n",
        "        pMedium = 1\n",
        "\n",
        "    elif x > 85 and x < 87:\n",
        "        pMedium = (-1*(x-87)/(82-87))\n",
        "        pHigh   = ((x-85)/(87-85))\n",
        "\n",
        "    elif x >= 87:\n",
        "        pHigh   = 1\n",
        "\n",
        "    return pLow, pMedium, pHigh"
      ],
      "metadata": {
        "id": "u9OeoZYhuq6K"
      },
      "execution_count": 6,
      "outputs": []
    },
    {
      "cell_type": "code",
      "source": [
        "def inference(eLow, eMedium, eHigh, pLow, pMedium, pHigh):\n",
        "    Y1,Y2,Y3,Y4,Y5 = 0,0,0,0,0\n",
        "    N1,N2,N3,N4 = 0,0,0,0\n",
        "    Y,N = 0,0\n",
        "\n",
        "    if eHigh != 0 and pHigh != 0:\n",
        "        Y1 = min(eHigh,pHigh)\n",
        "\n",
        "    if eHigh != 0 and pMedium != 0:\n",
        "        Y2 = min(eHigh,pMedium)\n",
        "\n",
        "    if eHigh != 0 and pLow != 0:\n",
        "        N1 = min(eHigh,pLow)\n",
        "\n",
        "    if eMedium != 0 and pHigh !=0:\n",
        "        Y3 = min(eMedium,pHigh)\n",
        "\n",
        "    if eMedium != 0 and pMedium != 0:\n",
        "        N2 = min(eMedium,pMedium)\n",
        "\n",
        "    if eMedium != 0 and pLow != 0:\n",
        "        N3 = min(eMedium,pLow)\n",
        "\n",
        "    if eLow != 0 and pHigh != 0:\n",
        "        Y4 = min(eLow,pHigh)\n",
        "\n",
        "    if eLow != 0 and pMedium != 0:\n",
        "        Y5 = min(eLow,pMedium)\n",
        "\n",
        "    if eLow != 0 and pLow != 0:\n",
        "        N4 = min(eLow,pLow)\n",
        "\n",
        "    Y = max(Y1,Y2,Y3,Y4,Y5)\n",
        "    N = max(N1,N2,N3,N4)\n",
        "    return Y,N"
      ],
      "metadata": {
        "id": "U40KBO53u0Lj"
      },
      "execution_count": 7,
      "outputs": []
    },
    {
      "cell_type": "code",
      "source": [
        "def defuzzification(Y,N):\n",
        "    if Y != 0 and N != 0:\n",
        "        return ((Y*60)+(N*40))/(Y+N)\n",
        "    elif Y != 0:\n",
        "        return (Y*60)/Y\n",
        "    elif N != 0:\n",
        "        return (N*40)/N"
      ],
      "metadata": {
        "id": "A1WodbL6u59t"
      },
      "execution_count": 8,
      "outputs": []
    },
    {
      "cell_type": "code",
      "source": [
        "count = 0\n",
        "while count < len(berita):\n",
        "    eLow,eMedium,eHigh = checkEmosi(emosi[count])\n",
        "    pLow,pMedium,pHigh = checkProvokasi(provokasi[count])\n",
        "    Ya,Tidak = inference(eLow,eMedium,eHigh,pLow,pMedium,pHigh)\n",
        "    hasil = defuzzification(Ya,Tidak)\n",
        "    if hasil < 55.0:\n",
        "        hoaks = \"Tidak\"\n",
        "    elif hasil >= 55.0:\n",
        "        hoaks = \"Ya\"\n",
        "    print(\"Berita : \",berita[count],\" Emosi : \",emosi[count],\" Provokasi : \",provokasi[count],\" Hoaks : \", hoaks)\n",
        "\n",
        "    count += 1"
      ],
      "metadata": {
        "colab": {
          "base_uri": "https://localhost:8080/"
        },
        "id": "CnrrzeXFQcZ7",
        "outputId": "ac2debaf-4046-4e45-8a6c-d309c27ce613"
      },
      "execution_count": 9,
      "outputs": [
        {
          "output_type": "stream",
          "name": "stdout",
          "text": [
            "input :  97\n",
            "eLow :  0 eMedium :  0 eHigh :  1\n",
            "Berita :  B01  Emosi :  97  Provokasi :  74  Hoaks :  Ya\n",
            "input :  57\n",
            "eLow :  0 eMedium :  1 eHigh :  0\n",
            "Berita :  B02  Emosi :  57  Provokasi :  85  Hoaks :  Tidak\n",
            "input :  78\n",
            "eLow :  0 eMedium :  0 eHigh :  1\n",
            "Berita :  B03  Emosi :  78  Provokasi :  43  Hoaks :  Tidak\n",
            "input :  55\n",
            "eLow :  0 eMedium :  1 eHigh :  0\n",
            "Berita :  B04  Emosi :  55  Provokasi :  90  Hoaks :  Ya\n",
            "input :  71\n",
            "eLow :  0 eMedium :  0 eHigh :  1\n",
            "Berita :  B05  Emosi :  71  Provokasi :  25  Hoaks :  Tidak\n",
            "input :  45\n",
            "eLow :  0 eMedium :  1 eHigh :  0\n",
            "Berita :  B06  Emosi :  45  Provokasi :  81  Hoaks :  Tidak\n",
            "input :  55\n",
            "eLow :  0 eMedium :  1 eHigh :  0\n",
            "Berita :  B07  Emosi :  55  Provokasi :  62  Hoaks :  Tidak\n",
            "input :  57\n",
            "eLow :  0 eMedium :  1 eHigh :  0\n",
            "Berita :  B08  Emosi :  57  Provokasi :  45  Hoaks :  Tidak\n",
            "input :  40\n",
            "eLow :  0 eMedium :  1 eHigh :  0\n",
            "Berita :  B09  Emosi :  40  Provokasi :  65  Hoaks :  Tidak\n",
            "input :  57\n",
            "eLow :  0 eMedium :  1 eHigh :  0\n",
            "Berita :  B10  Emosi :  57  Provokasi :  45  Hoaks :  Tidak\n",
            "input :  77\n",
            "eLow :  0 eMedium :  0 eHigh :  1\n",
            "Berita :  B11  Emosi :  77  Provokasi :  70  Hoaks :  Ya\n",
            "input :  68\n",
            "eLow :  0 eMedium :  0 eHigh :  1\n",
            "Berita :  B12  Emosi :  68  Provokasi :  75  Hoaks :  Ya\n",
            "input :  60\n",
            "eLow :  0 eMedium :  1 eHigh :  0\n",
            "Berita :  B13  Emosi :  60  Provokasi :  70  Hoaks :  Tidak\n",
            "input :  82\n",
            "eLow :  0 eMedium :  0 eHigh :  1\n",
            "Berita :  B14  Emosi :  82  Provokasi :  90  Hoaks :  Ya\n",
            "input :  40\n",
            "eLow :  0 eMedium :  1 eHigh :  0\n",
            "Berita :  B15  Emosi :  40  Provokasi :  85  Hoaks :  Tidak\n",
            "input :  80\n",
            "eLow :  0 eMedium :  0 eHigh :  1\n",
            "Berita :  B16  Emosi :  80  Provokasi :  68  Hoaks :  Ya\n",
            "input :  60\n",
            "eLow :  0 eMedium :  1 eHigh :  0\n",
            "Berita :  B17  Emosi :  60  Provokasi :  72  Hoaks :  Tidak\n",
            "input :  50\n",
            "eLow :  0 eMedium :  1 eHigh :  0\n",
            "Berita :  B18  Emosi :  50  Provokasi :  95  Hoaks :  Ya\n",
            "input :  100\n",
            "eLow :  0 eMedium :  0 eHigh :  1\n",
            "Berita :  B19  Emosi :  100  Provokasi :  18  Hoaks :  Tidak\n",
            "input :  11\n",
            "eLow :  1 eMedium :  0 eHigh :  0\n",
            "Berita :  B20  Emosi :  11  Provokasi :  99  Hoaks :  Ya\n",
            "input :  58\n",
            "eLow :  0 eMedium :  1 eHigh :  0\n",
            "Berita :  B21  Emosi :  58  Provokasi :  63  Hoaks :  Tidak\n",
            "input :  68\n",
            "eLow :  0 eMedium :  0 eHigh :  1\n",
            "Berita :  B22  Emosi :  68  Provokasi :  70  Hoaks :  Ya\n",
            "input :  64\n",
            "eLow :  0 eMedium :  0.25 eHigh :  0.046875\n",
            "Berita :  B23  Emosi :  64  Provokasi :  66  Hoaks :  Tidak\n",
            "input :  57\n",
            "eLow :  0 eMedium :  1 eHigh :  0\n",
            "Berita :  B24  Emosi :  57  Provokasi :  77  Hoaks :  Tidak\n",
            "input :  77\n",
            "eLow :  0 eMedium :  0 eHigh :  1\n",
            "Berita :  B25  Emosi :  77  Provokasi :  55  Hoaks :  Tidak\n",
            "input :  98\n",
            "eLow :  0 eMedium :  0 eHigh :  1\n",
            "Berita :  B26  Emosi :  98  Provokasi :  64  Hoaks :  Ya\n",
            "input :  91\n",
            "eLow :  0 eMedium :  0 eHigh :  1\n",
            "Berita :  B27  Emosi :  91  Provokasi :  59  Hoaks :  Ya\n",
            "input :  50\n",
            "eLow :  0 eMedium :  1 eHigh :  0\n",
            "Berita :  B28  Emosi :  50  Provokasi :  95  Hoaks :  Ya\n",
            "input :  95\n",
            "eLow :  0 eMedium :  0 eHigh :  1\n",
            "Berita :  B29  Emosi :  95  Provokasi :  55  Hoaks :  Tidak\n",
            "input :  27\n",
            "eLow :  1 eMedium :  0 eHigh :  0\n",
            "Berita :  B30  Emosi :  27  Provokasi :  79  Hoaks :  Ya\n"
          ]
        }
      ]
    },
    {
      "cell_type": "markdown",
      "source": [
        "Source Code otomatis berubah sesuai dengan nilai yang diinput pada file excel, karena proses dan output di dapat dalam data file excel. Jadi, jika nilai - nilai pada data excel dirubah maka output source codenya pun juga otomatis berubah sesuai dengan data file excel."
      ],
      "metadata": {
        "id": "iQwbn-tLViwX"
      }
    }
  ]
}