{
  "nbformat": 4,
  "nbformat_minor": 0,
  "metadata": {
    "colab": {
      "provenance": [],
      "authorship_tag": "ABX9TyN1Qh19p9ro5cQ5jI74Y5sf",
      "include_colab_link": true
    },
    "kernelspec": {
      "name": "python3",
      "display_name": "Python 3"
    },
    "language_info": {
      "name": "python"
    }
  },
  "cells": [
    {
      "cell_type": "markdown",
      "metadata": {
        "id": "view-in-github",
        "colab_type": "text"
      },
      "source": [
        "<a href=\"https://colab.research.google.com/github/Wahananta/code-python/blob/main/uts_kecerdasan_komputasional_23420034.ipynb\" target=\"_parent\"><img src=\"https://colab.research.google.com/assets/colab-badge.svg\" alt=\"Open In Colab\"/></a>"
      ]
    },
    {
      "cell_type": "code",
      "execution_count": null,
      "metadata": {
        "id": "KFjkQq1hUE0s"
      },
      "outputs": [],
      "source": [
        "import matplotlib as plt\n",
        "from sklearn.datasets import make_blobs\n",
        "from sklearn.cluster import KMeans\n",
        "from sklearn.metrics import silhouette_score\n",
        "from sklearn.preprocessing import StandardScaler"
      ]
    },
    {
      "cell_type": "code",
      "source": [
        "features, true_label = make_blobs(\n",
        "    n_samples=430,\n",
        "    centers=4,\n",
        "    cluster_std=2.75,\n",
        "    random_state=42\n",
        ")"
      ],
      "metadata": {
        "id": "joMkqW3tXlj1"
      },
      "execution_count": null,
      "outputs": []
    },
    {
      "cell_type": "code",
      "source": [
        "features[:10]"
      ],
      "metadata": {
        "colab": {
          "base_uri": "https://localhost:8080/"
        },
        "id": "fA29ZYu7Xx2Y",
        "outputId": "85c7990c-fafd-47d0-edf3-cf6292caf48f"
      },
      "execution_count": null,
      "outputs": [
        {
          "output_type": "execute_result",
          "data": {
            "text/plain": [
              "array([[  4.95205154,   3.79402904],\n",
              "       [ -1.79451994,  11.16429903],\n",
              "       [-10.03319238,   6.47329958],\n",
              "       [ -1.80093405,   8.80955986],\n",
              "       [ -9.5395151 ,  11.45950363],\n",
              "       [ -2.8272304 ,   8.18625097],\n",
              "       [-11.29735457,  -6.32058459],\n",
              "       [ -8.61204679,  10.25359395],\n",
              "       [ -1.52528238,  10.55644358],\n",
              "       [  5.52735488,  -0.30171541]])"
            ]
          },
          "metadata": {},
          "execution_count": 18
        }
      ]
    },
    {
      "cell_type": "code",
      "source": [
        "true_label[:10]"
      ],
      "metadata": {
        "colab": {
          "base_uri": "https://localhost:8080/"
        },
        "id": "3RudwY7wX2oM",
        "outputId": "39069a9a-8b3a-40a0-98bb-fc45acb164ee"
      },
      "execution_count": null,
      "outputs": [
        {
          "output_type": "execute_result",
          "data": {
            "text/plain": [
              "array([1, 0, 3, 0, 3, 0, 2, 3, 0, 1])"
            ]
          },
          "metadata": {},
          "execution_count": 19
        }
      ]
    },
    {
      "cell_type": "code",
      "source": [
        "standard_skala = StandardScaler()\n",
        "skala_fitur = standard_skala.fit_transform(features)"
      ],
      "metadata": {
        "id": "5CVxJwDAX45q"
      },
      "execution_count": null,
      "outputs": []
    },
    {
      "cell_type": "code",
      "source": [
        "skala_fitur[:10]"
      ],
      "metadata": {
        "colab": {
          "base_uri": "https://localhost:8080/"
        },
        "id": "KrrDjsQCX9Gc",
        "outputId": "af7df1b2-5769-44b4-a691-afd26067b0b1"
      },
      "execution_count": null,
      "outputs": [
        {
          "output_type": "execute_result",
          "data": {
            "text/plain": [
              "array([[ 1.39801061,  0.12979834],\n",
              "       [ 0.27056932,  1.1986937 ],\n",
              "       [-1.10622176,  0.51836753],\n",
              "       [ 0.26949744,  0.85719064],\n",
              "       [-1.02372176,  1.24150663],\n",
              "       [ 0.09798975,  0.76679341],\n",
              "       [-1.31747998, -1.33710363],\n",
              "       [-0.86872955,  1.06661598],\n",
              "       [ 0.31556247,  1.11053765],\n",
              "       [ 1.4941514 , -0.4641992 ]])"
            ]
          },
          "metadata": {},
          "execution_count": 21
        }
      ]
    },
    {
      "cell_type": "code",
      "source": [
        "metode_kmeans = KMeans(\n",
        "    init=\"random\", \n",
        "    n_clusters=4, \n",
        "    n_init=10, \n",
        "    max_iter=100, \n",
        "    random_state=41\n",
        "    )"
      ],
      "metadata": {
        "id": "lfX0e3LnX_3t"
      },
      "execution_count": null,
      "outputs": []
    },
    {
      "cell_type": "code",
      "source": [
        "metode_kmeans.fit(skala_fitur)"
      ],
      "metadata": {
        "colab": {
          "base_uri": "https://localhost:8080/",
          "height": 75
        },
        "id": "sii2na86YChU",
        "outputId": "b43ba0d1-5ee6-41c7-dd35-4fe5116f1dd4"
      },
      "execution_count": null,
      "outputs": [
        {
          "output_type": "execute_result",
          "data": {
            "text/plain": [
              "KMeans(init='random', max_iter=100, n_clusters=4, n_init=10, random_state=41)"
            ],
            "text/html": [
              "<style>#sk-container-id-2 {color: black;background-color: white;}#sk-container-id-2 pre{padding: 0;}#sk-container-id-2 div.sk-toggleable {background-color: white;}#sk-container-id-2 label.sk-toggleable__label {cursor: pointer;display: block;width: 100%;margin-bottom: 0;padding: 0.3em;box-sizing: border-box;text-align: center;}#sk-container-id-2 label.sk-toggleable__label-arrow:before {content: \"▸\";float: left;margin-right: 0.25em;color: #696969;}#sk-container-id-2 label.sk-toggleable__label-arrow:hover:before {color: black;}#sk-container-id-2 div.sk-estimator:hover label.sk-toggleable__label-arrow:before {color: black;}#sk-container-id-2 div.sk-toggleable__content {max-height: 0;max-width: 0;overflow: hidden;text-align: left;background-color: #f0f8ff;}#sk-container-id-2 div.sk-toggleable__content pre {margin: 0.2em;color: black;border-radius: 0.25em;background-color: #f0f8ff;}#sk-container-id-2 input.sk-toggleable__control:checked~div.sk-toggleable__content {max-height: 200px;max-width: 100%;overflow: auto;}#sk-container-id-2 input.sk-toggleable__control:checked~label.sk-toggleable__label-arrow:before {content: \"▾\";}#sk-container-id-2 div.sk-estimator input.sk-toggleable__control:checked~label.sk-toggleable__label {background-color: #d4ebff;}#sk-container-id-2 div.sk-label input.sk-toggleable__control:checked~label.sk-toggleable__label {background-color: #d4ebff;}#sk-container-id-2 input.sk-hidden--visually {border: 0;clip: rect(1px 1px 1px 1px);clip: rect(1px, 1px, 1px, 1px);height: 1px;margin: -1px;overflow: hidden;padding: 0;position: absolute;width: 1px;}#sk-container-id-2 div.sk-estimator {font-family: monospace;background-color: #f0f8ff;border: 1px dotted black;border-radius: 0.25em;box-sizing: border-box;margin-bottom: 0.5em;}#sk-container-id-2 div.sk-estimator:hover {background-color: #d4ebff;}#sk-container-id-2 div.sk-parallel-item::after {content: \"\";width: 100%;border-bottom: 1px solid gray;flex-grow: 1;}#sk-container-id-2 div.sk-label:hover label.sk-toggleable__label {background-color: #d4ebff;}#sk-container-id-2 div.sk-serial::before {content: \"\";position: absolute;border-left: 1px solid gray;box-sizing: border-box;top: 0;bottom: 0;left: 50%;z-index: 0;}#sk-container-id-2 div.sk-serial {display: flex;flex-direction: column;align-items: center;background-color: white;padding-right: 0.2em;padding-left: 0.2em;position: relative;}#sk-container-id-2 div.sk-item {position: relative;z-index: 1;}#sk-container-id-2 div.sk-parallel {display: flex;align-items: stretch;justify-content: center;background-color: white;position: relative;}#sk-container-id-2 div.sk-item::before, #sk-container-id-2 div.sk-parallel-item::before {content: \"\";position: absolute;border-left: 1px solid gray;box-sizing: border-box;top: 0;bottom: 0;left: 50%;z-index: -1;}#sk-container-id-2 div.sk-parallel-item {display: flex;flex-direction: column;z-index: 1;position: relative;background-color: white;}#sk-container-id-2 div.sk-parallel-item:first-child::after {align-self: flex-end;width: 50%;}#sk-container-id-2 div.sk-parallel-item:last-child::after {align-self: flex-start;width: 50%;}#sk-container-id-2 div.sk-parallel-item:only-child::after {width: 0;}#sk-container-id-2 div.sk-dashed-wrapped {border: 1px dashed gray;margin: 0 0.4em 0.5em 0.4em;box-sizing: border-box;padding-bottom: 0.4em;background-color: white;}#sk-container-id-2 div.sk-label label {font-family: monospace;font-weight: bold;display: inline-block;line-height: 1.2em;}#sk-container-id-2 div.sk-label-container {text-align: center;}#sk-container-id-2 div.sk-container {/* jupyter's `normalize.less` sets `[hidden] { display: none; }` but bootstrap.min.css set `[hidden] { display: none !important; }` so we also need the `!important` here to be able to override the default hidden behavior on the sphinx rendered scikit-learn.org. See: https://github.com/scikit-learn/scikit-learn/issues/21755 */display: inline-block !important;position: relative;}#sk-container-id-2 div.sk-text-repr-fallback {display: none;}</style><div id=\"sk-container-id-2\" class=\"sk-top-container\"><div class=\"sk-text-repr-fallback\"><pre>KMeans(init=&#x27;random&#x27;, max_iter=100, n_clusters=4, n_init=10, random_state=41)</pre><b>In a Jupyter environment, please rerun this cell to show the HTML representation or trust the notebook. <br />On GitHub, the HTML representation is unable to render, please try loading this page with nbviewer.org.</b></div><div class=\"sk-container\" hidden><div class=\"sk-item\"><div class=\"sk-estimator sk-toggleable\"><input class=\"sk-toggleable__control sk-hidden--visually\" id=\"sk-estimator-id-2\" type=\"checkbox\" checked><label for=\"sk-estimator-id-2\" class=\"sk-toggleable__label sk-toggleable__label-arrow\">KMeans</label><div class=\"sk-toggleable__content\"><pre>KMeans(init=&#x27;random&#x27;, max_iter=100, n_clusters=4, n_init=10, random_state=41)</pre></div></div></div></div></div>"
            ]
          },
          "metadata": {},
          "execution_count": 23
        }
      ]
    },
    {
      "cell_type": "code",
      "source": [
        "metode_kmeans.inertia_"
      ],
      "metadata": {
        "colab": {
          "base_uri": "https://localhost:8080/"
        },
        "id": "8AC4Aj-HYHoJ",
        "outputId": "65b0681e-a906-4410-c009-4565f76c6615"
      },
      "execution_count": null,
      "outputs": [
        {
          "output_type": "execute_result",
          "data": {
            "text/plain": [
              "135.53200200733895"
            ]
          },
          "metadata": {},
          "execution_count": 24
        }
      ]
    },
    {
      "cell_type": "code",
      "source": [
        "metode_kmeans.cluster_centers_"
      ],
      "metadata": {
        "colab": {
          "base_uri": "https://localhost:8080/"
        },
        "id": "55yUzQo8YKKG",
        "outputId": "45ad1415-d688-45b4-f614-a730192cf1af"
      },
      "execution_count": null,
      "outputs": [
        {
          "output_type": "execute_result",
          "data": {
            "text/plain": [
              "array([[-0.6228481 , -1.44566903],\n",
              "       [ 1.43779142, -0.15994792],\n",
              "       [ 0.17667311,  0.90122887],\n",
              "       [-0.95028184,  0.6719924 ]])"
            ]
          },
          "metadata": {},
          "execution_count": 25
        }
      ]
    },
    {
      "cell_type": "code",
      "source": [
        "metode_kmeans.n_iter_"
      ],
      "metadata": {
        "colab": {
          "base_uri": "https://localhost:8080/"
        },
        "id": "OLej3gIgYMJt",
        "outputId": "8dcd5170-ba8c-413a-b762-55ef13cc6ef9"
      },
      "execution_count": null,
      "outputs": [
        {
          "output_type": "execute_result",
          "data": {
            "text/plain": [
              "9"
            ]
          },
          "metadata": {},
          "execution_count": 26
        }
      ]
    },
    {
      "cell_type": "code",
      "source": [
        "metode_kmeans.labels_"
      ],
      "metadata": {
        "colab": {
          "base_uri": "https://localhost:8080/"
        },
        "id": "EYXO4BaLYOgw",
        "outputId": "eb4c4d31-0a05-4d5a-95ea-0c070fe7fe2e"
      },
      "execution_count": null,
      "outputs": [
        {
          "output_type": "execute_result",
          "data": {
            "text/plain": [
              "array([1, 2, 3, 2, 3, 2, 0, 3, 2, 1, 1, 2, 3, 0, 0, 0, 3, 2, 3, 1, 3, 1,\n",
              "       0, 1, 1, 1, 2, 2, 3, 2, 3, 1, 2, 1, 1, 2, 0, 0, 1, 1, 3, 2, 1, 0,\n",
              "       0, 3, 2, 2, 0, 2, 0, 0, 2, 3, 1, 2, 0, 3, 2, 2, 3, 3, 1, 2, 1, 0,\n",
              "       0, 0, 2, 3, 3, 3, 3, 1, 1, 1, 2, 1, 1, 0, 0, 0, 3, 3, 0, 1, 1, 2,\n",
              "       0, 3, 0, 2, 0, 2, 2, 3, 0, 3, 0, 2, 0, 1, 1, 0, 1, 3, 3, 1, 1, 3,\n",
              "       2, 2, 1, 1, 1, 0, 0, 0, 0, 3, 1, 3, 3, 3, 2, 1, 3, 2, 3, 2, 3, 0,\n",
              "       2, 2, 3, 3, 1, 2, 3, 2, 1, 3, 3, 1, 0, 2, 0, 2, 1, 3, 3, 2, 3, 3,\n",
              "       0, 0, 0, 1, 3, 0, 1, 1, 1, 0, 2, 0, 3, 0, 3, 3, 1, 0, 2, 2, 3, 0,\n",
              "       1, 2, 2, 2, 1, 1, 2, 1, 1, 0, 3, 1, 0, 2, 1, 1, 2, 3, 1, 3, 0, 2,\n",
              "       2, 0, 3, 1, 1, 0, 2, 2, 2, 1, 3, 0, 1, 2, 3, 2, 0, 1, 0, 0, 1, 2,\n",
              "       2, 0, 0, 3, 2, 2, 0, 2, 1, 3, 0, 0, 2, 0, 0, 1, 1, 2, 1, 0, 2, 0,\n",
              "       1, 1, 3, 3, 3, 1, 3, 0, 0, 3, 1, 3, 0, 3, 3, 1, 0, 3, 2, 3, 1, 2,\n",
              "       1, 0, 0, 2, 2, 1, 3, 2, 0, 1, 0, 0, 2, 3, 1, 2, 0, 0, 3, 3, 0, 2,\n",
              "       3, 0, 2, 2, 3, 2, 0, 1, 0, 2, 1, 0, 0, 3, 2, 2, 3, 3, 2, 2, 2, 1,\n",
              "       2, 3, 3, 0, 3, 1, 2, 0, 1, 3, 0, 0, 1, 1, 2, 1, 3, 3, 1, 0, 3, 0,\n",
              "       2, 0, 3, 0, 2, 0, 3, 3, 2, 3, 1, 3, 0, 3, 0, 1, 3, 2, 2, 2, 0, 2,\n",
              "       2, 1, 0, 3, 2, 2, 1, 1, 2, 2, 0, 0, 3, 0, 1, 2, 1, 1, 1, 3, 2, 1,\n",
              "       3, 2, 3, 0, 1, 0, 3, 1, 3, 2, 1, 3, 1, 1, 0, 0, 1, 3, 3, 3, 2, 2,\n",
              "       0, 1, 1, 3, 0, 0, 0, 3, 1, 2, 0, 3, 0, 2, 3, 2, 1, 3, 0, 3, 2, 1,\n",
              "       3, 3, 0, 2, 2, 2, 1, 3, 0, 2, 1, 1], dtype=int32)"
            ]
          },
          "metadata": {},
          "execution_count": 27
        }
      ]
    },
    {
      "cell_type": "code",
      "source": [
        "import numpy as np\n",
        "import matplotlib.pyplot as plt\n",
        "import pandas as pd"
      ],
      "metadata": {
        "id": "N-nFxvqMYRHQ"
      },
      "execution_count": null,
      "outputs": []
    },
    {
      "cell_type": "code",
      "source": [
        "color = np.array([\"Red\",\"Green\",\"Blue\",\"yellow\",\"brown\"])\n",
        "plt.subplot(1,2,2)\n",
        "plt.scatter(skala_fitur[:,0], skala_fitur[:,1], s=50, alpha=1, cmap='viridis', c=color[metode_kmeans.labels_])"
      ],
      "metadata": {
        "colab": {
          "base_uri": "https://localhost:8080/",
          "height": 502
        },
        "id": "VsWut_UwYVDr",
        "outputId": "fbe75cbc-0270-4cf7-cc47-fea694dfba3c"
      },
      "execution_count": null,
      "outputs": [
        {
          "output_type": "stream",
          "name": "stderr",
          "text": [
            "<ipython-input-29-860e6561b51d>:3: UserWarning: No data for colormapping provided via 'c'. Parameters 'cmap' will be ignored\n",
            "  plt.scatter(skala_fitur[:,0], skala_fitur[:,1], s=50, alpha=1, cmap='viridis', c=color[metode_kmeans.labels_])\n"
          ]
        },
        {
          "output_type": "execute_result",
          "data": {
            "text/plain": [
              "<matplotlib.collections.PathCollection at 0x7f386f59f1c0>"
            ]
          },
          "metadata": {},
          "execution_count": 29
        },
        {
          "output_type": "display_data",
          "data": {
            "text/plain": [
              "<Figure size 640x480 with 1 Axes>"
            ],
            "image/png": "[encoded data removed]"
          },
          "metadata": {}
        }
      ]
    }
  ]
}